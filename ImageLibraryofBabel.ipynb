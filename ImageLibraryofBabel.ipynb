{
  "nbformat": 4,
  "nbformat_minor": 0,
  "metadata": {
    "colab": {
      "name": "ImageLibraryofBabel.ipynb",
      "provenance": [],
      "collapsed_sections": [],
      "authorship_tag": "ABX9TyOv4c6cj8TkAPxRbimRVXXP",
      "include_colab_link": true
    },
    "kernelspec": {
      "name": "python3",
      "display_name": "Python 3"
    },
    "language_info": {
      "name": "python"
    }
  },
  "cells": [
    {
      "cell_type": "markdown",
      "metadata": {
        "id": "view-in-github",
        "colab_type": "text"
      },
      "source": [
        "<a href=\"https://colab.research.google.com/github/OnderKaratas/ImageLibraryofBabel/blob/main/ImageLibraryofBabel.ipynb\" target=\"_parent\"><img src=\"https://colab.research.google.com/assets/colab-badge.svg\" alt=\"Open In Colab\"/></a>"
      ]
    },
    {
      "cell_type": "code",
      "execution_count": null,
      "metadata": {
        "id": "EDfRdXDCyv74"
      },
      "outputs": [],
      "source": [
        "from matplotlib import pyplot as plt\n",
        "import numpy as np\n",
        "from PIL import Image\n",
        "\n",
        "imgs=[]\n",
        "img=Image.new(\"RGB\",(16,16),(0,0,0))\n",
        "empty_data=list(img.getdata())\n",
        "for a in range(0,256):\n",
        "  for i in range(len(empty_data)):\n",
        "    empty_data[i]=list(empty_data[i])\n",
        "  for i in range(len(empty_data)):\n",
        "    for j in range(0,len(empty_data[i]),3):\n",
        "      empty_data[i][j]=a\n",
        "  for i in range(len(empty_data)):\n",
        "    empty_data[i]=tuple(empty_data[i])\n",
        "  img.putdata(empty_data)\n",
        "  imgs.append(img)\n"
      ]
    }
  ]
}